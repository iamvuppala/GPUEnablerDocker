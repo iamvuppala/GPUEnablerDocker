{
 "cells": [
  {
   "cell_type": "code",
   "execution_count": 2,
   "metadata": {},
   "outputs": [
    {
     "name": "stdout",
     "output_type": "stream",
     "text": [
      "Starting download from file:///home/testuser/GPUEnabler/Resources/gpu-enabler_2.11-1.0.0.jar\n",
      "Finished download of gpu-enabler_2.11-1.0.0.jar\n",
      "Starting download from file:///home/testuser/GPUEnabler/Resources/gpu-enabler-examples_2.11-1.0.0.jar\n",
      "Finished download of gpu-enabler-examples_2.11-1.0.0.jar\n"
     ]
    }
   ],
   "source": [
    "%AddJar file:///home/testuser/GPUEnabler/Resources/gpu-enabler_2.11-1.0.0.jar\n",
    "%AddJar file:///home/testuser/GPUEnabler/Resources/gpu-enabler-examples_2.11-1.0.0.jar"
   ]
  },
  {
   "cell_type": "code",
   "execution_count": 3,
   "metadata": {},
   "outputs": [],
   "source": [
    "import com.ibm.gpuenabler.CUDARDDImplicits._\n",
    "import com.ibm.gpuenabler.CUDADSImplicits._\n",
    "import org.apache.spark.sql.SparkSession\n",
    "import org.apache.spark.SparkConf\n",
    "import com.ibm.gpuenabler._"
   ]
  },
  {
   "cell_type": "code",
   "execution_count": 3,
   "metadata": {},
   "outputs": [
    {
     "data": {
      "text/plain": [
       "sc = org.apache.spark.SparkContext@1ab15f80\n"
      ]
     },
     "metadata": {},
     "output_type": "display_data"
    },
    {
     "data": {
      "text/html": [
       "<ul>\n",
       "<li><a href=\"Some(http://172.17.0.2:4040)\" target=\"new_tab\">Spark UI: local-1501843795463</a></li>\n",
       "</ul>"
      ],
      "text/plain": [
       "Spark local-1501843795463: Some(http://172.17.0.2:4040)"
      ]
     },
     "execution_count": 3,
     "metadata": {},
     "output_type": "execute_result"
    }
   ],
   "source": [
    "val sc = spark.sparkContext"
   ]
  },
  {
   "cell_type": "code",
   "execution_count": 7,
   "metadata": {},
   "outputs": [
    {
     "data": {
      "text/plain": [
       "ptxURL = jar:file:/usr/bin/spark/jars/gpu-enabler-examples_2.11-1.0.0.jar!/GpuEnablerExamples.ptx\n"
      ]
     },
     "metadata": {},
     "output_type": "display_data"
    },
    {
     "data": {
      "text/plain": [
       "jar:file:/usr/bin/spark/jars/gpu-enabler-examples_2.11-1.0.0.jar!/GpuEnablerExamples.ptx"
      ]
     },
     "execution_count": 7,
     "metadata": {},
     "output_type": "execute_result"
    }
   ],
   "source": [
    "val ptxURL = this.getClass.getResource(\"/GpuEnablerExamples.ptx\")"
   ]
  },
  {
   "cell_type": "code",
   "execution_count": 4,
   "metadata": {},
   "outputs": [
    {
     "data": {
      "text/plain": [
       "ptxURL = jar:file:/usr/bin/spark/jars/gpu-enabler-examples_2.11-1.0.0.jar!/GpuEnablerExamples.ptx\n",
       "mapFunction = com.ibm.gpuenabler.CUDAFunction@3701540f\n"
      ]
     },
     "metadata": {},
     "output_type": "display_data"
    },
    {
     "data": {
      "text/plain": [
       "com.ibm.gpuenabler.CUDAFunction@3701540f"
      ]
     },
     "execution_count": 4,
     "metadata": {},
     "output_type": "execute_result"
    }
   ],
   "source": [
    "val mapFunction = new CUDAFunction(\n",
    "      \"multiplyBy2o\",\n",
    "      Array(\"this\"),\n",
    "      Array(\"this\"),\n",
    "      ptxURL)"
   ]
  },
  {
   "cell_type": "code",
   "execution_count": 5,
   "metadata": {},
   "outputs": [
    {
     "data": {
      "text/plain": [
       "dataRDD = MapPartitionsRDD[1] at map at <console>:37\n"
      ]
     },
     "metadata": {},
     "output_type": "display_data"
    },
    {
     "data": {
      "text/plain": [
       "10"
      ]
     },
     "execution_count": 5,
     "metadata": {},
     "output_type": "execute_result"
    }
   ],
   "source": [
    "val dataRDD = sc.parallelize(1 to 10, 1).map(_.toLong).cache().cacheGpu()\n",
    "    dataRDD.count()"
   ]
  },
  {
   "cell_type": "code",
   "execution_count": 6,
   "metadata": {},
   "outputs": [
    {
     "name": "stdout",
     "output_type": "stream",
     "text": [
      "2\n",
      "4\n",
      "6\n",
      "8\n",
      "10\n",
      "12\n",
      "14\n",
      "16\n",
      "18\n",
      "20\n"
     ]
    },
    {
     "data": {
      "text/plain": [
       "output = MapGPUPartitionsRDD[2] at RDD at CUDARDDUtils.scala:78\n"
      ]
     },
     "metadata": {},
     "output_type": "display_data"
    },
    {
     "data": {
      "text/plain": [
       "MapGPUPartitionsRDD[2] at RDD at CUDARDDUtils.scala:78"
      ]
     },
     "execution_count": 6,
     "metadata": {},
     "output_type": "execute_result"
    }
   ],
   "source": [
    "var output = dataRDD.mapExtFunc((x: Long) => 3 * x, mapFunction).cacheGpu()\n",
    "//println(output.count())\n",
    "output.collect().foreach(println)"
   ]
  },
  {
   "cell_type": "code",
   "execution_count": null,
   "metadata": {
    "collapsed": true
   },
   "outputs": [],
   "source": []
  }
 ],
 "metadata": {
  "kernelspec": {
   "display_name": "Apache Toree - Scala",
   "language": "scala",
   "name": "apache_toree_scala"
  },
  "language_info": {
   "codemirror_mode": "text/x-scala",
   "file_extension": ".scala",
   "mimetype": "text/x-scala",
   "name": "scala",
   "pygments_lexer": "scala",
   "version": "2.11.8"
  }
 },
 "nbformat": 4,
 "nbformat_minor": 2
}
