{
 "cells": [
  {
   "cell_type": "code",
   "execution_count": 1,
   "metadata": {},
   "outputs": [
    {
     "name": "stdout",
     "output_type": "stream",
     "text": [
      "Starting download from file:///home/testuser/GPUEnabler/Resources/gpu-enabler_2.11-1.0.0.jar\n",
      "Finished download of gpu-enabler_2.11-1.0.0.jar\n",
      "Starting download from file:///home/testuser/GPUEnabler/Resources/gpu-enabler-examples_2.11-1.0.0.jar\n",
      "Finished download of gpu-enabler-examples_2.11-1.0.0.jar\n"
     ]
    }
   ],
   "source": [
    "%AddJar file:///home/testuser/GPUEnabler/Resources/gpu-enabler_2.11-1.0.0.jar\n",
    "%AddJar file:///home/testuser/GPUEnabler/Resources/gpu-enabler-examples_2.11-1.0.0.jar"
   ]
  },
  {
   "cell_type": "code",
   "execution_count": 2,
   "metadata": {
    "collapsed": true
   },
   "outputs": [],
   "source": [
    "import com.ibm.gpuenabler.CUDADSImplicits._\n",
    "import org.apache.spark.sql.SparkSession\n",
    "import org.apache.spark.SparkConf\n",
    "import com.ibm.gpuenabler._"
   ]
  },
  {
   "cell_type": "code",
   "execution_count": 3,
   "metadata": {},
   "outputs": [
    {
     "data": {
      "text/plain": [
       "sc1 = org.apache.spark.sql.SparkSession@2bec8bfc\n"
      ]
     },
     "metadata": {},
     "output_type": "display_data"
    },
    {
     "data": {
      "text/html": [
       "<ul>\n",
       "<li><a href=\"Some(http://172.17.0.2:4040)\" target=\"new_tab\">Spark UI: local-1501854643298</a></li>\n",
       "</ul>"
      ],
      "text/plain": [
       "Spark local-1501854643298: Some(http://172.17.0.2:4040)"
      ]
     },
     "execution_count": 3,
     "metadata": {},
     "output_type": "execute_result"
    }
   ],
   "source": [
    "val sc1 = SparkSession.builder.getOrCreate()\n",
    "import sc1.implicits._"
   ]
  },
  {
   "cell_type": "code",
   "execution_count": 13,
   "metadata": {},
   "outputs": [
    {
     "data": {
      "text/plain": [
       "ptxURL1 = /GpuEnablerExamples.ptx\n"
      ]
     },
     "metadata": {},
     "output_type": "display_data"
    },
    {
     "data": {
      "text/plain": [
       "/GpuEnablerExamples.ptx"
      ]
     },
     "execution_count": 13,
     "metadata": {},
     "output_type": "execute_result"
    }
   ],
   "source": [
    "val ptxURL1 = \"/GpuEnablerExamples.ptx\""
   ]
  },
  {
   "cell_type": "code",
   "execution_count": 14,
   "metadata": {},
   "outputs": [
    {
     "data": {
      "text/plain": [
       "defined class DataPoint\n"
      ]
     },
     "metadata": {},
     "output_type": "display_data"
    }
   ],
   "source": [
    "case class DataPoint(element: Long)"
   ]
  },
  {
   "cell_type": "code",
   "execution_count": 15,
   "metadata": {},
   "outputs": [
    {
     "data": {
      "text/plain": [
       "ds = [element: bigint]\n"
      ]
     },
     "metadata": {},
     "output_type": "display_data"
    },
    {
     "data": {
      "text/plain": [
       "[element: bigint]"
      ]
     },
     "execution_count": 15,
     "metadata": {},
     "output_type": "execute_result"
    }
   ],
   "source": [
    "val ds=sc1.range(0,10,1,1).map(x => DataPoint(x))"
   ]
  },
  {
   "cell_type": "code",
   "execution_count": 16,
   "metadata": {},
   "outputs": [
    {
     "data": {
      "text/plain": [
       "mapFunction1 = DSCUDAFunction(multiplyBy2,WrappedArray(element),WrappedArray(element),/GpuEnablerExamples.ptx,None,None,None)\n"
      ]
     },
     "metadata": {},
     "output_type": "display_data"
    },
    {
     "data": {
      "text/plain": [
       "DSCUDAFunction(multiplyBy2,WrappedArray(element),WrappedArray(element),/GpuEnablerExamples.ptx,None,None,None)"
      ]
     },
     "execution_count": 16,
     "metadata": {},
     "output_type": "execute_result"
    }
   ],
   "source": [
    "val mapFunction1 = new DSCUDAFunction(\n",
    "      \"multiplyBy2\",\n",
    "      Array(\"element\"),\n",
    "      Array(\"element\"),\n",
    "      ptxURL1)"
   ]
  },
  {
   "cell_type": "code",
   "execution_count": 17,
   "metadata": {},
   "outputs": [
    {
     "name": "stdout",
     "output_type": "stream",
     "text": [
      "DataPoint(0)\n",
      "DataPoint(2)\n",
      "DataPoint(4)\n",
      "DataPoint(6)\n",
      "DataPoint(8)\n",
      "DataPoint(10)\n",
      "DataPoint(12)\n",
      "DataPoint(14)\n",
      "DataPoint(16)\n",
      "DataPoint(18)\n"
     ]
    }
   ],
   "source": [
    "ds.mapExtFunc((x: DataPoint)=>x, mapFunction1).collect().foreach(println)"
   ]
  },
  {
   "cell_type": "code",
   "execution_count": null,
   "metadata": {
    "collapsed": true
   },
   "outputs": [],
   "source": []
  }
 ],
 "metadata": {
  "kernelspec": {
   "display_name": "Apache Toree - Scala",
   "language": "scala",
   "name": "apache_toree_scala"
  },
  "language_info": {
   "codemirror_mode": "text/x-scala",
   "file_extension": ".scala",
   "mimetype": "text/x-scala",
   "name": "scala",
   "pygments_lexer": "scala",
   "version": "2.11.8"
  }
 },
 "nbformat": 4,
 "nbformat_minor": 2
}
